{
 "cells": [
  {
   "cell_type": "markdown",
   "id": "a299f40e-5bb7-4bdd-bafc-3b15c0ff69d8",
   "metadata": {},
   "source": [
    "# Data Science Tools and Ecosystem"
   ]
  },
  {
   "cell_type": "markdown",
   "id": "a63d40e4-1450-4b99-b215-6b71d90b0eae",
   "metadata": {},
   "source": [
    "In this notebook, Data Science Tools and Ecosystem are summarized."
   ]
  },
  {
   "cell_type": "markdown",
   "id": "2463112e-cb18-45bd-a5ac-5aa2092b5f0a",
   "metadata": {},
   "source": [
    "__OBJECTIVE__\n",
    "* TITLE\n",
    "* INTRODUCTION\n",
    "* DS LANGUAGES\n",
    "* DS LIBRARIES\n",
    "* DS TOOLS\n",
    "* ARITHMATIC EXPRESSION\n",
    "* AUTHOR"
   ]
  },
  {
   "cell_type": "markdown",
   "id": "dc06944b-dc30-4134-bc3e-0881ed8491a1",
   "metadata": {},
   "source": [
    "1. Python\n",
    "2. R\n",
    "3. Java"
   ]
  },
  {
   "cell_type": "markdown",
   "id": "da373d90-dafd-419f-a32f-04bbaa5d08e9",
   "metadata": {},
   "source": [
    "* Numpy\n",
    "* Pandas\n",
    "* Seaborn"
   ]
  },
  {
   "cell_type": "markdown",
   "id": "bf0630ab-7ed8-432d-91dc-0c1f5e33b004",
   "metadata": {},
   "source": [
    "|Data Science|\n",
    "|------------|\n",
    "|Python|\n",
    "|R Studio|\n",
    "|Java|"
   ]
  },
  {
   "cell_type": "markdown",
   "id": "7c6e01c3-2f62-46a2-8701-b72d69be1ae0",
   "metadata": {},
   "source": [
    "### Below are a few examples of evaluating arithmetic expressions in Python"
   ]
  },
  {
   "cell_type": "code",
   "execution_count": 3,
   "id": "9971e1d7-46d4-4fb9-acd1-5402eaa6446d",
   "metadata": {},
   "outputs": [
    {
     "data": {
      "text/plain": [
       "17"
      ]
     },
     "execution_count": 3,
     "metadata": {},
     "output_type": "execute_result"
    }
   ],
   "source": [
    "# This a simple arithmetic expression to mutiply then add integers\n",
    "(3*4)+5"
   ]
  },
  {
   "cell_type": "code",
   "execution_count": 4,
   "id": "1128a25d-ad88-4e97-8a3d-0122b08be0b4",
   "metadata": {},
   "outputs": [
    {
     "data": {
      "text/plain": [
       "3.3333333333333335"
      ]
     },
     "execution_count": 4,
     "metadata": {},
     "output_type": "execute_result"
    }
   ],
   "source": [
    "# This will convert 200 minutes to hours by diving by 60\n",
    "200/60"
   ]
  },
  {
   "cell_type": "markdown",
   "id": "3c932eaa-0dfc-4ee8-865c-445a1c2cbb59",
   "metadata": {},
   "source": [
    "## Author\n",
    "BOBBAI THOMAS"
   ]
  },
  {
   "cell_type": "code",
   "execution_count": null,
   "id": "90bb1e3b-bb78-4ae0-99cb-93d56f3378c6",
   "metadata": {},
   "outputs": [],
   "source": []
  }
 ],
 "metadata": {
  "kernelspec": {
   "display_name": "Python 3 (ipykernel)",
   "language": "python",
   "name": "python3"
  },
  "language_info": {
   "codemirror_mode": {
    "name": "ipython",
    "version": 3
   },
   "file_extension": ".py",
   "mimetype": "text/x-python",
   "name": "python",
   "nbconvert_exporter": "python",
   "pygments_lexer": "ipython3",
   "version": "3.11.5"
  }
 },
 "nbformat": 4,
 "nbformat_minor": 5
}
